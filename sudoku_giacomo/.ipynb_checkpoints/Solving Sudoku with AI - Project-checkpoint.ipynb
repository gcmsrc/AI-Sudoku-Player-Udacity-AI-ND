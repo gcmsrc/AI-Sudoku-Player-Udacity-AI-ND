{
 "cells": [
  {
   "cell_type": "markdown",
   "metadata": {},
   "source": [
    "### Solving Sudoku with AI - Project"
   ]
  },
  {
   "cell_type": "code",
   "execution_count": 1,
   "metadata": {},
   "outputs": [],
   "source": [
    "rows = 'ABCDEFGHI'\n",
    "cols = '123456789'\n",
    "\n",
    "def cross(a, b):\n",
    "    return [s+t for s in a for t in b]\n",
    "\n",
    "boxes = cross(rows, cols)\n",
    "\n",
    "def display(values):\n",
    "    \"\"\"\n",
    "    Display the values as a 2-D grid.\n",
    "    Input: The sudoku in dictionary form\n",
    "    Output: None\n",
    "    \"\"\"\n",
    "    width = 1+max(len(values[s]) for s in boxes)\n",
    "    line = '+'.join(['-'*(width*3)]*3)\n",
    "    for r in rows:\n",
    "        print(''.join(values[r+c].center(width)+('|' if c in '36' else '')\n",
    "                      for c in cols))\n",
    "        if r in 'CF': print(line)\n",
    "    return"
   ]
  },
  {
   "cell_type": "code",
   "execution_count": 2,
   "metadata": {},
   "outputs": [],
   "source": [
    "def grid_values(grid):\n",
    "    \"\"\"Convert grid string into {<box>: <value>} dict with '123456789' value for empties.\n",
    "\n",
    "    Args:\n",
    "        grid: Sudoku grid in string form, 81 characters long\n",
    "    Returns:\n",
    "        Sudoku grid in dictionary form:\n",
    "        - keys: Box labels, e.g. 'A1'\n",
    "        - values: Value in corresponding box, e.g. '8', or '123456789' if it is empty.\n",
    "    \"\"\"\n",
    "    assert(len(grid)==81)\n",
    "    return dict(zip(boxes, [('123456789' if v == '.' else v) for v in grid]))\n",
    "\n"
   ]
  },
  {
   "cell_type": "code",
   "execution_count": 3,
   "metadata": {},
   "outputs": [],
   "source": [
    "def eliminate(values):\n",
    "    \"\"\"Eliminate values from peers of each box with a single value.\n",
    "\n",
    "    Go through all the boxes, and whenever there is a box with a single value,\n",
    "    eliminate this value from the set of values of all its peers.\n",
    "\n",
    "    Args:\n",
    "        values: Sudoku in dictionary form.\n",
    "    Returns:\n",
    "        Resulting Sudoku in dictionary form after eliminating values.\n",
    "    \"\"\"\n",
    "    \n",
    "    solved_values = [box for box in values.keys() if len(values[box]) == 1]\n",
    "    for box in solved_values:\n",
    "        digit = values[box]\n",
    "        for peer in peers[box]:\n",
    "            values[peer] = values[peer].replace(digit,'')\n",
    "    return values\n",
    "\n",
    "def only_choice(values):\n",
    "    \"\"\"Finalize all values that are the only choice for a unit.\n",
    "\n",
    "    Go through all the units, and whenever there is a unit with a value\n",
    "    that only fits in one box, assign the value to this box.\n",
    "\n",
    "    Input: Sudoku in dictionary form.\n",
    "    Output: Resulting Sudoku in dictionary form after filling in only choices.\n",
    "    \"\"\"\n",
    "    # TODO: Implement only choice strategy here\n",
    "    digits = \"123456789\"\n",
    "    for unit in unitlist:\n",
    "        for d in digits:\n",
    "            dplaces = [box for box in unit if d in values[box]]\n",
    "            if len(dplaces) == 1:\n",
    "                values[dplaces[0]] = d\n",
    "                \n",
    "    return values\n",
    "\n",
    "def search(values):\n",
    "    \"Using depth-first search and propagation, create a search tree and solve the sudoku.\"\n",
    "    # First, reduce the puzzle using the previous function\n",
    "    values = reduce_puzzle(values)\n",
    "    \n",
    "    if values == False:\n",
    "        return False\n",
    "    \n",
    "    if all(len(values[s]) == 1 for s in boxes):\n",
    "        return values\n",
    "    \n",
    "    # Choose one of the unfilled squares with the fewest possibilities\n",
    "    n,s = min((len(values[s]), s) for s in boxes if len(values[s]) > 1)\n",
    "    \n",
    "    # Now use recursion to solve each one of the resulting sudokus, and if one returns a value (not False),\n",
    "    # return that answer!\n",
    "    for value in values[s]:\n",
    "        new_sudoku = values.copy()\n",
    "        new_sudoku[s] = value\n",
    "        attempt = search(new_sudoku)\n",
    "        if attempt:\n",
    "            return attempt\n",
    "    \n",
    "    # If you're stuck, see the solution.py tab!"
   ]
  },
  {
   "cell_type": "code",
   "execution_count": 4,
   "metadata": {},
   "outputs": [],
   "source": [
    "from collections import defaultdict\n",
    "\n",
    "def extract_units(unitlist, boxes):\n",
    "    \"\"\"Initialize a mapping from box names to the units that the boxes belong to\n",
    "\n",
    "    Parameters\n",
    "    ----------\n",
    "    unitlist(list)\n",
    "        a list containing \"units\" (rows, columns, diagonals, etc.) of boxes\n",
    "\n",
    "    boxes(list)\n",
    "        a list of strings identifying each box on a sudoku board (e.g., \"A1\", \"C7\", etc.)\n",
    "\n",
    "    Returns\n",
    "    -------\n",
    "    dict\n",
    "        a dictionary with a key for each box (string) whose value is a list\n",
    "        containing the units that the box belongs to (i.e., the \"member units\")\n",
    "    \"\"\"\n",
    "    # the value for keys that aren't in the dictionary are initialized as an empty list\n",
    "    units = defaultdict(list)\n",
    "    for current_box in boxes:\n",
    "        for unit in unitlist:\n",
    "            if current_box in unit:\n",
    "                # defaultdict avoids this raising a KeyError when new keys are added\n",
    "                units[current_box].append(unit)\n",
    "    return units\n",
    "\n",
    "\n",
    "def extract_peers(units, boxes):\n",
    "    \"\"\"Initialize a mapping from box names to a list of peer boxes (i.e., a flat list\n",
    "    of boxes that are in a unit together with the key box)\n",
    "\n",
    "    Parameters\n",
    "    ----------\n",
    "    units(dict)\n",
    "        a dictionary with a key for each box (string) whose value is a list\n",
    "        containing the units that the box belongs to (i.e., the \"member units\")\n",
    "\n",
    "    boxes(list)\n",
    "        a list of strings identifying each box on a sudoku board (e.g., \"A1\", \"C7\", etc.)\n",
    "\n",
    "    Returns\n",
    "    -------\n",
    "    dict\n",
    "        a dictionary with a key for each box (string) whose value is a set\n",
    "        containing all boxes that are peers of the key box (boxes that are in a unit\n",
    "        together with the key box)\n",
    "    \"\"\"\n",
    "    # the value for keys that aren't in the dictionary are initialized as an empty list\n",
    "    peers = defaultdict(set)  # set avoids duplicates\n",
    "    for key_box in boxes:\n",
    "        for unit in units[key_box]:\n",
    "            for peer_box in unit:\n",
    "                if peer_box != key_box:\n",
    "                    # defaultdict avoids this raising a KeyError when new keys are added\n",
    "                    peers[key_box].add(peer_box)\n",
    "    return peers"
   ]
  },
  {
   "cell_type": "code",
   "execution_count": 5,
   "metadata": {},
   "outputs": [],
   "source": [
    "row_units = [cross(r, cols) for r in rows]\n",
    "column_units = [cross(rows, c) for c in cols]\n",
    "square_units = [cross(rs, cs) for rs in ('ABC','DEF','GHI') for cs in ('123','456','789')]\n",
    "unitlist = row_units + column_units + square_units\n",
    "\n",
    "# Diagonal units\n",
    "first_diagonal = [r+c for r,c in zip(rows, cols)]\n",
    "second_diagonal = [r+c for r,c in zip(reversed(rows), cols)]\n",
    "unitlist.append(first_diagonal)\n",
    "unitlist.append(second_diagonal)"
   ]
  },
  {
   "cell_type": "code",
   "execution_count": 6,
   "metadata": {},
   "outputs": [],
   "source": [
    "units = extract_units(unitlist, boxes)\n",
    "peers = extract_peers(units, boxes)"
   ]
  },
  {
   "cell_type": "markdown",
   "metadata": {},
   "source": [
    "##### Test diagonal grid"
   ]
  },
  {
   "cell_type": "code",
   "execution_count": 7,
   "metadata": {},
   "outputs": [],
   "source": [
    "diagonal_grid = '2.............62....1....7...6..8...3...9...7...6..4...4....8....52.............3'"
   ]
  },
  {
   "cell_type": "code",
   "execution_count": 8,
   "metadata": {},
   "outputs": [
    {
     "name": "stdout",
     "output_type": "stream",
     "text": [
      "    2     123456789 123456789 |123456789 123456789 123456789 |123456789 123456789 123456789 \n",
      "123456789 123456789 123456789 |123456789 123456789     6     |    2     123456789 123456789 \n",
      "123456789 123456789     1     |123456789 123456789 123456789 |123456789     7     123456789 \n",
      "------------------------------+------------------------------+------------------------------\n",
      "123456789 123456789     6     |123456789 123456789     8     |123456789 123456789 123456789 \n",
      "    3     123456789 123456789 |123456789     9     123456789 |123456789 123456789     7     \n",
      "123456789 123456789 123456789 |    6     123456789 123456789 |    4     123456789 123456789 \n",
      "------------------------------+------------------------------+------------------------------\n",
      "123456789     4     123456789 |123456789 123456789 123456789 |    8     123456789 123456789 \n",
      "123456789 123456789     5     |    2     123456789 123456789 |123456789 123456789 123456789 \n",
      "123456789 123456789 123456789 |123456789 123456789 123456789 |123456789 123456789     3     \n"
     ]
    }
   ],
   "source": [
    "values = grid_values(diagonal_grid)\n",
    "display(values)"
   ]
  },
  {
   "cell_type": "markdown",
   "metadata": {},
   "source": [
    "### Naked twins"
   ]
  },
  {
   "cell_type": "code",
   "execution_count": 9,
   "metadata": {},
   "outputs": [],
   "source": [
    "def naked_twins(values):\n",
    "    \"\"\"Eliminate values using the naked twins strategy.\n",
    "\n",
    "    The naked twins strategy says that if you have two or more unallocated boxes\n",
    "    in a unit and there are only two digits that can go in those two boxes, then\n",
    "    those two digits can be eliminated from the possible assignments of all other\n",
    "    boxes in the same unit.\n",
    "\n",
    "    Parameters\n",
    "    ----------\n",
    "    values(dict)\n",
    "        a dictionary of the form {'box_name': '123456789', ...}\n",
    "\n",
    "    Returns\n",
    "    -------\n",
    "    dict\n",
    "        The values dictionary with the naked twins eliminated from peers\n",
    "\n",
    "    Notes\n",
    "    -----\n",
    "    Your solution can either process all pairs of naked twins from the input once,\n",
    "    or it can continue processing pairs of naked twins until there are no such\n",
    "    pairs remaining -- the project assistant test suite will accept either\n",
    "    convention. However, it will not accept code that does not process all pairs\n",
    "    of naked twins from the original input. (For example, if you start processing\n",
    "    pairs of twins and eliminate another pair of twins before the second pair\n",
    "    is processed then your code will fail the PA test suite.)\n",
    "\n",
    "    The first convention is preferred for consistency with the other strategies,\n",
    "    and because it is simpler (since the reduce_puzzle function already calls this\n",
    "    strategy repeatedly).\n",
    "    \"\"\"\n",
    "    # TODO: Implement this function!\n",
    "    naked_pairs = [(t,p) for t in values.keys() for p in peers[t] if values[p] == values[t] and len(values[p])==2]\n",
    "    \n",
    "    for a,b in naked_pairs:\n",
    "        \n",
    "        digits = values[a]\n",
    "        \n",
    "        for u in units[a]:\n",
    "            \n",
    "            if b in u:\n",
    "                \n",
    "                for p in set(u) - set([a,b]):\n",
    "                    \n",
    "                    for d in digits:\n",
    "                        \n",
    "                        values[p] = values[p].replace(d,\"\")\n",
    "    return values"
   ]
  },
  {
   "cell_type": "markdown",
   "metadata": {},
   "source": [
    "##### Test Naked Twins"
   ]
  },
  {
   "cell_type": "code",
   "execution_count": 27,
   "metadata": {},
   "outputs": [
    {
     "name": "stdout",
     "output_type": "stream",
     "text": [
      "  1   237   4  | 2357  9   257 |  27   6    8  \n",
      "  9    5    6  |  27   1    8  |  27   3    4  \n",
      "  23  237   8  |  4    37   6  |  9    5    1  \n",
      "---------------+---------------+---------------\n",
      "  5    1   2379| 237  347  279 |  34   8    6  \n",
      "  8    37  379 |  6   347  579 | 345   1    2  \n",
      "  6    4    23 | 1235  8   125 |  35   9    7  \n",
      "---------------+---------------+---------------\n",
      "  7    8    1  |  9    2    3  |  6    4    5  \n",
      "  4    9    5  |  17   6    17 |  8    2    3  \n",
      "  23   6    23 |  8    5    4  |  1    7    9  \n"
     ]
    }
   ],
   "source": [
    "before_naked_twins_1 = {'I6': '4', 'H9': '3', 'I2': '6', 'E8': '1', 'H3': '5', 'H7': '8', 'I7': '1', 'I4': '8',\n",
    "                            'H5': '6', 'F9': '7', 'G7': '6', 'G6': '3', 'G5': '2', 'E1': '8', 'G3': '1', 'G2': '8',\n",
    "                            'G1': '7', 'I1': '23', 'C8': '5', 'I3': '23', 'E5': '347', 'I5': '5', 'C9': '1', 'G9': '5',\n",
    "                            'G8': '4', 'A1': '1', 'A3': '4', 'A2': '237', 'A5': '9', 'A4': '2357', 'A7': '27',\n",
    "                            'A6': '257', 'C3': '8', 'C2': '237', 'C1': '23', 'E6': '579', 'C7': '9', 'C6': '6',\n",
    "                            'C5': '37', 'C4': '4', 'I9': '9', 'D8': '8', 'I8': '7', 'E4': '6', 'D9': '6', 'H8': '2',\n",
    "                            'F6': '125', 'A9': '8', 'G4': '9', 'A8': '6', 'E7': '345', 'E3': '379', 'F1': '6',\n",
    "                            'F2': '4', 'F3': '23', 'F4': '1235', 'F5': '8', 'E2': '37', 'F7': '35', 'F8': '9',\n",
    "                            'D2': '1', 'H1': '4', 'H6': '17', 'H2': '9', 'H4': '17', 'D3': '2379', 'B4': '27',\n",
    "                            'B5': '1', 'B6': '8', 'B7': '27', 'E9': '2', 'B1': '9', 'B2': '5', 'B3': '6', 'D6': '279',\n",
    "                            'D7': '34', 'D4': '237', 'D5': '347', 'B8': '3', 'B9': '4', 'D1': '5'}\n",
    "display(before_naked_twins_1)"
   ]
  },
  {
   "cell_type": "code",
   "execution_count": 28,
   "metadata": {},
   "outputs": [
    {
     "name": "stdout",
     "output_type": "stream",
     "text": [
      "  1   237   4  | 2357  9   257 |  27   6    8  \n",
      "  9    5    6  |  27   1    8  |  27   3    4  \n",
      "  23  237   8  |  4    37   6  |  9    5    1  \n",
      "---------------+---------------+---------------\n",
      "  5    1   2379|  37  347   27 |  34   8    6  \n",
      "  8    37  379 |  6    47  579 | 345   1    2  \n",
      "  6    4    23 |  25   8       |  35   9    7  \n",
      "---------------+---------------+---------------\n",
      "  7    8    1  |  9    2    3  |  6    4    5  \n",
      "  4         5  |  17   6    17 |  8    2    3  \n",
      "  2    6    23 |  8    5    4  |  1    7    9  \n"
     ]
    }
   ],
   "source": [
    "display(eliminate(before_naked_twins_1))"
   ]
  },
  {
   "cell_type": "markdown",
   "metadata": {},
   "source": [
    "### Reduce puzzle"
   ]
  },
  {
   "cell_type": "code",
   "execution_count": 14,
   "metadata": {},
   "outputs": [],
   "source": [
    "def reduce_puzzle(values):\n",
    "    stalled = False\n",
    "    while not stalled:\n",
    "        # Check how many boxes have a determined value\n",
    "        solved_values_before = len([box for box in values.keys() if len(values[box]) == 1])\n",
    "\n",
    "        # Your code here: Use the Eliminate Strategy\n",
    "        values = eliminate(values)\n",
    "\n",
    "        # Your code here: Use the Only Choice Strategy\n",
    "        values = only_choice(values)\n",
    "        \n",
    "        # Your code here: Use the Naked Twins Strategy\n",
    "        #values = naked_twins(values)\n",
    "        \n",
    "        # Check how many boxes have a determined value, to compare\n",
    "        solved_values_after = len([box for box in values.keys() if len(values[box]) == 1])\n",
    "        # If no new values were added, stop the loop.\n",
    "        stalled = solved_values_before == solved_values_after\n",
    "        # Sanity check, return False if there is a box with zero available values:\n",
    "        if len([box for box in values.keys() if len(values[box]) == 0]):\n",
    "            return False\n",
    "    return values"
   ]
  }
 ],
 "metadata": {
  "kernelspec": {
   "display_name": "Python [default]",
   "language": "python",
   "name": "python3"
  },
  "language_info": {
   "codemirror_mode": {
    "name": "ipython",
    "version": 3
   },
   "file_extension": ".py",
   "mimetype": "text/x-python",
   "name": "python",
   "nbconvert_exporter": "python",
   "pygments_lexer": "ipython3",
   "version": "3.5.4"
  }
 },
 "nbformat": 4,
 "nbformat_minor": 2
}
